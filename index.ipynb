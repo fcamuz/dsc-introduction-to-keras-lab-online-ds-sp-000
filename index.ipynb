{
 "cells": [
  {
   "cell_type": "markdown",
   "metadata": {},
   "source": [
    "# Keras - Lab\n",
    "\n",
    "## Introduction\n",
    "\n",
    "In this lab you'll once again build a neural network but this time with much less production time since we will be using Keras to do a lot of the heavy lifting building blocks which we coded from hand previously.  Our use case will be classifying Bank complaints.\n",
    "\n",
    "\n",
    "## Objectives\n",
    "\n",
    "You will be able to:\n",
    "* Build a neural network using Keras"
   ]
  },
  {
   "cell_type": "markdown",
   "metadata": {},
   "source": [
    "## Loading Required Packages\n",
    "\n",
    "Here we'll import all of the various packages that we'll use in this code along. We'll point out where these imports were used as they come up in the lab."
   ]
  },
  {
   "cell_type": "code",
   "execution_count": 46,
   "metadata": {},
   "outputs": [],
   "source": [
    "import matplotlib.pyplot as plt\n",
    "import pandas as pd\n",
    "import numpy as np\n",
    "import random\n",
    "from sklearn.model_selection import train_test_split\n",
    "from keras.utils.np_utils import to_categorical\n",
    "from sklearn import preprocessing\n",
    "from keras.preprocessing.text import Tokenizer\n",
    "from keras import models\n",
    "from keras import layers\n",
    "from keras import optimizers"
   ]
  },
  {
   "cell_type": "markdown",
   "metadata": {},
   "source": [
    "## Loading the data\n",
    "\n",
    "As usual, we will start our data science process by importing the data itself.  \n",
    "Load and preview as a pandas dataframe.   \n",
    "The data is stored in a file **Bank_complaints.csv**."
   ]
  },
  {
   "cell_type": "code",
   "execution_count": 47,
   "metadata": {},
   "outputs": [
    {
     "data": {
      "text/html": [
       "<div>\n",
       "<style scoped>\n",
       "    .dataframe tbody tr th:only-of-type {\n",
       "        vertical-align: middle;\n",
       "    }\n",
       "\n",
       "    .dataframe tbody tr th {\n",
       "        vertical-align: top;\n",
       "    }\n",
       "\n",
       "    .dataframe thead th {\n",
       "        text-align: right;\n",
       "    }\n",
       "</style>\n",
       "<table border=\"1\" class=\"dataframe\">\n",
       "  <thead>\n",
       "    <tr style=\"text-align: right;\">\n",
       "      <th></th>\n",
       "      <th>Product</th>\n",
       "      <th>Consumer complaint narrative</th>\n",
       "    </tr>\n",
       "  </thead>\n",
       "  <tbody>\n",
       "    <tr>\n",
       "      <td>0</td>\n",
       "      <td>Student loan</td>\n",
       "      <td>In XX/XX/XXXX I filled out the Fedlaon applica...</td>\n",
       "    </tr>\n",
       "    <tr>\n",
       "      <td>1</td>\n",
       "      <td>Student loan</td>\n",
       "      <td>I am being contacted by a debt collector for p...</td>\n",
       "    </tr>\n",
       "    <tr>\n",
       "      <td>2</td>\n",
       "      <td>Student loan</td>\n",
       "      <td>I cosigned XXXX student loans at SallieMae for...</td>\n",
       "    </tr>\n",
       "    <tr>\n",
       "      <td>3</td>\n",
       "      <td>Student loan</td>\n",
       "      <td>Navient has sytematically and illegally failed...</td>\n",
       "    </tr>\n",
       "    <tr>\n",
       "      <td>4</td>\n",
       "      <td>Student loan</td>\n",
       "      <td>My wife became eligible for XXXX Loan Forgiven...</td>\n",
       "    </tr>\n",
       "    <tr>\n",
       "      <td>...</td>\n",
       "      <td>...</td>\n",
       "      <td>...</td>\n",
       "    </tr>\n",
       "    <tr>\n",
       "      <td>59995</td>\n",
       "      <td>Credit reporting</td>\n",
       "      <td>In XXXX, I defaulted on a credit card with XXX...</td>\n",
       "    </tr>\n",
       "    <tr>\n",
       "      <td>59996</td>\n",
       "      <td>Credit reporting</td>\n",
       "      <td>I HAVE CALLED TRANSUNION JUST ABOUT EVERY MONT...</td>\n",
       "    </tr>\n",
       "    <tr>\n",
       "      <td>59997</td>\n",
       "      <td>Credit reporting</td>\n",
       "      <td>Hello, there is a 2012 Chapter XXXX Bankruptcy...</td>\n",
       "    </tr>\n",
       "    <tr>\n",
       "      <td>59998</td>\n",
       "      <td>Credit reporting</td>\n",
       "      <td>I had a 2 yr internet contract with XXXX XXXX ...</td>\n",
       "    </tr>\n",
       "    <tr>\n",
       "      <td>59999</td>\n",
       "      <td>Credit reporting</td>\n",
       "      <td>I filed a complaint against XXXX XXXX XXXX wit...</td>\n",
       "    </tr>\n",
       "  </tbody>\n",
       "</table>\n",
       "<p>60000 rows × 2 columns</p>\n",
       "</div>"
      ],
      "text/plain": [
       "                Product                       Consumer complaint narrative\n",
       "0          Student loan  In XX/XX/XXXX I filled out the Fedlaon applica...\n",
       "1          Student loan  I am being contacted by a debt collector for p...\n",
       "2          Student loan  I cosigned XXXX student loans at SallieMae for...\n",
       "3          Student loan  Navient has sytematically and illegally failed...\n",
       "4          Student loan  My wife became eligible for XXXX Loan Forgiven...\n",
       "...                 ...                                                ...\n",
       "59995  Credit reporting  In XXXX, I defaulted on a credit card with XXX...\n",
       "59996  Credit reporting  I HAVE CALLED TRANSUNION JUST ABOUT EVERY MONT...\n",
       "59997  Credit reporting  Hello, there is a 2012 Chapter XXXX Bankruptcy...\n",
       "59998  Credit reporting  I had a 2 yr internet contract with XXXX XXXX ...\n",
       "59999  Credit reporting  I filed a complaint against XXXX XXXX XXXX wit...\n",
       "\n",
       "[60000 rows x 2 columns]"
      ]
     },
     "execution_count": 47,
     "metadata": {},
     "output_type": "execute_result"
    }
   ],
   "source": [
    "#Your code here\n",
    "#import pandas as pd #As reference; already imported above\n",
    "df=pd.read_csv('Bank_complaints.csv')\n",
    "df"
   ]
  },
  {
   "cell_type": "markdown",
   "metadata": {},
   "source": [
    "## Further Preview of the Categories\n",
    "\n",
    "As we said, our task here is to categorize banking complaints into various predefined categories. Preview what these categories are and what percent of the complaints each accounts for."
   ]
  },
  {
   "cell_type": "code",
   "execution_count": 48,
   "metadata": {},
   "outputs": [
    {
     "data": {
      "text/plain": [
       "array(['Student loan', 'Credit card', 'Bank account or service',\n",
       "       'Consumer Loan', 'Checking or savings account', 'Mortgage',\n",
       "       'Credit reporting'], dtype=object)"
      ]
     },
     "execution_count": 48,
     "metadata": {},
     "output_type": "execute_result"
    }
   ],
   "source": [
    "#Your code here\n",
    "df.Product.unique()"
   ]
  },
  {
   "cell_type": "markdown",
   "metadata": {},
   "source": [
    "## Preprocessing\n",
    "\n",
    "Before we build our neural network, we need to do several preprocessing steps. First, we will create word vector counts (a bag of words type representation) of our complaints text. Next, we will change the category labels to integers. Finally, we will perform our usual train-test split before building and training our neural network using Keras. With that, let's start munging our data!"
   ]
  },
  {
   "cell_type": "markdown",
   "metadata": {},
   "source": [
    "## One-hot encoding of the complaints\n",
    "\n",
    "Our first step again is to transform our textual data into a numerical representation. As we've started to see in some of our previous lessons on NLP, there are many ways to do this. Here, we'll use the `Tokenizer` method from the `preprocessing` module of the Keras package.   \n",
    "\n",
    "As with our previous work using NLTK, this will transform our text complaints into word vectors. (Note that the method of creating a vector is different from our previous work with NLTK; as you'll see, word order will be preserved as opposed to a bag of words representation. In the below code, we'll only keep the 2,000 most common words and use one-hot encoding.\n",
    "\n",
    "Note that the code block below takes advantage of the following package import from our first code cell above.  \n",
    "`from keras.preprocessing.text import Tokenizer`"
   ]
  },
  {
   "cell_type": "code",
   "execution_count": 49,
   "metadata": {},
   "outputs": [],
   "source": [
    "#As a quick preliminary, briefly review the docstring for the Keras.preprocessing.text.Tokenizer method:\n",
    "#Tokenizer"
   ]
  },
  {
   "cell_type": "code",
   "execution_count": 50,
   "metadata": {},
   "outputs": [
    {
     "name": "stdout",
     "output_type": "stream",
     "text": [
      "sequences type: <class 'list'>\n",
      "one_hot_results type: <class 'numpy.ndarray'>\n",
      "Found 50110 unique tokens.\n",
      "Dimensions of our coded results: (60000, 2000)\n"
     ]
    }
   ],
   "source": [
    "#Now onto the actual code recipe...\n",
    "#⏰ This cell may take about a thirty seconds to run\n",
    "complaints = df[\"Consumer complaint narrative\"] #Our raw text complaints\n",
    "\n",
    "tokenizer = Tokenizer(num_words=2000) #Initialize a tokenizer.\n",
    "\n",
    "tokenizer.fit_on_texts(complaints) #Fit it to the complaints\n",
    "\n",
    "sequences = tokenizer.texts_to_sequences(complaints) #Generate sequences\n",
    "print('sequences type:', type(sequences))\n",
    "\n",
    "one_hot_results= tokenizer.texts_to_matrix(complaints, mode='binary') #Similar to sequences, but returns a numpy array\n",
    "print('one_hot_results type:', type(one_hot_results))\n",
    "\n",
    "word_index = tokenizer.word_index #Useful if we wish to decode (more explanation below)\n",
    "\n",
    "print('Found %s unique tokens.' % len(word_index)) #Tokens are the number of unique words across the corpus\n",
    "\n",
    "\n",
    "print('Dimensions of our coded results:', np.shape(one_hot_results)) #Our coded data"
   ]
  },
  {
   "cell_type": "markdown",
   "metadata": {},
   "source": [
    "## Decoding our Word Vectors\n",
    "As a note, you can also decode these vectorized representations of the reviews. The `word_index` variable, defined above, stores the mapping from the label number to the actual word. Somewhat tediously, we can turn this dictionary inside out and map it back to our word vectors, giving us roughly the original complaint back. (As you'll see, the text won't be identical as we limited ourselves to 200 words.)"
   ]
  },
  {
   "cell_type": "markdown",
   "metadata": {},
   "source": [
    "## Python Review / Mini Challenge\n",
    "\n",
    "While a bit tangential to our main topic of interest, we need to reverse our current dictionary `word_index` which maps words from our corpus to integers. In decoding our one_hot_results, we will need to create a dictionary of these integers to the original words. Below, take the `word_index` dictionary object and change the orientation so that the values are keys and the keys values. In other words, you are transforming something of the form {A:1, B:2, C:3} to {1:A, 2:B, 3:C}"
   ]
  },
  {
   "cell_type": "code",
   "execution_count": null,
   "metadata": {},
   "outputs": [],
   "source": []
  },
  {
   "cell_type": "code",
   "execution_count": 51,
   "metadata": {},
   "outputs": [],
   "source": [
    "#Your code here\n",
    "reverse_index = {}\n",
    "for key in word_index.keys():\n",
    "        reverse_index[word_index[key]]= key\n",
    "      "
   ]
  },
  {
   "cell_type": "markdown",
   "metadata": {},
   "source": [
    "## Back to Decoding Our Word Vectors..."
   ]
  },
  {
   "cell_type": "code",
   "execution_count": 52,
   "metadata": {},
   "outputs": [
    {
     "name": "stdout",
     "output_type": "stream",
     "text": [
      "Original complaint text:\n",
      "I have already filed several complaints about AES/PHEAA. I was notified by a XXXX XXXX let @ XXXX, who pretended to be from your office, he said he was from CFPB. I found out this morning he is n't from your office, but is actually works at XXXX. \n",
      "\n",
      "This has wasted weeks of my time. They AES/PHEAA confirmed and admitted ( see attached transcript of XXXX, conversation at XXXX ( XXXX ) with XXXX that proves they verified the loans are not mine ) the student loans they had XXXX, and collected on, and reported negate credit reporting in my name are in fact, not mine. \n",
      "They conclued their investigation on XXXX admitting they made a mistake and have my name on soneone elses loans. I these XXXX loans total {$10000.00}, original amount. My XXXX loans I got was total {$3500.00}. We proved by providing AES/PHEAA, this with my original promissary notes I located recently, the XXXX of my college provided AES/PHEAA with their original shoeinf amounts of my XXXX loans which show different dates and amounts, the dates and amounts are not even close to matching these loans they have in my name, The original lender, XXXX XXXX Bank notifying AES/PHEAA, they never issued me a student loan, and original Loan Guarantor, XXXX, notifying AES/PHEAA, they never were guarantor of my loans. \n",
      "\n",
      "XXXX straight forward. But today, this person, XXXX XXXX, told me they know these loans are not mine, and they refuse to remove my name off these XXXX loan 's and correct their mistake, essentially forcing me to pay these loans off, bucause in XXXX they sold the loans to XXXX loans. \n",
      "\n",
      "This is absurd, first protruding to be this office, and then refusing to correct their mistake. \n",
      "\n",
      "Please for the love of XXXX will soneone from your office call me at XXXX, today. I am a XXXX vet and they are knowingly discriminating against me. \n",
      "Pretending to be you.\n",
      "\n",
      "\n",
      "\n",
      "Decoded review from Tokenizer:\n",
      "i have already filed several complaints about aes i was notified by a xxxx xxxx let xxxx who to be from your office he said he was from cfpb i found out this morning he is n't from your office but is actually works at xxxx this has weeks of my time they aes confirmed and admitted see attached of xxxx conversation at xxxx xxxx with xxxx that they verified the loans are not mine the student loans they had xxxx and on and reported credit reporting in my name are in fact not mine they their investigation on xxxx they made a mistake and have my name on loans i these xxxx loans total 10000 00 original amount my xxxx loans i got was total 00 we by providing aes this with my original notes i located recently the xxxx of my college provided aes with their original amounts of my xxxx loans which show different dates and amounts the dates and amounts are not even close to these loans they have in my name the original lender xxxx xxxx bank notifying aes they never issued me a student loan and original loan xxxx notifying aes they never were of my loans xxxx forward but today this person xxxx xxxx told me they know these loans are not mine and they refuse to remove my name off these xxxx loan 's and correct their mistake essentially me to pay these loans off in xxxx they sold the loans to xxxx loans this is first to be this office and then refusing to correct their mistake please for the of xxxx will from your office call me at xxxx today i am a xxxx and they are against me to be you\n"
     ]
    }
   ],
   "source": [
    "comment_idx_to_preview = 19\n",
    "print('Original complaint text:')\n",
    "print(complaints[comment_idx_to_preview])\n",
    "print('\\n\\n')\n",
    "\n",
    "#The reverse_index cell block above must be complete in order for this cell block to successively execute.\n",
    "decoded_review = ' '.join([reverse_index.get(i) for i in sequences[comment_idx_to_preview]])\n",
    "print('Decoded review from Tokenizer:')\n",
    "print(decoded_review)"
   ]
  },
  {
   "cell_type": "markdown",
   "metadata": {},
   "source": [
    "## Convert the Products to Numerical Categories\n",
    "\n",
    "On to step two of our preprocessing: converting our descriptive categories into integers."
   ]
  },
  {
   "cell_type": "code",
   "execution_count": 53,
   "metadata": {},
   "outputs": [
    {
     "name": "stdout",
     "output_type": "stream",
     "text": [
      "Original class labels:\n",
      "['Bank account or service', 'Checking or savings account', 'Consumer Loan', 'Credit card', 'Credit reporting', 'Mortgage', 'Student loan']\n",
      "\n",
      "\n",
      "New product labels:\n",
      "[6 6 6 ... 4 4 4]\n",
      "\n",
      "\n",
      "One hot labels; 7 binary columns, one for each of the categories.\n",
      "[[0. 0. 0. ... 0. 0. 1.]\n",
      " [0. 0. 0. ... 0. 0. 1.]\n",
      " [0. 0. 0. ... 0. 0. 1.]\n",
      " ...\n",
      " [0. 0. 0. ... 1. 0. 0.]\n",
      " [0. 0. 0. ... 1. 0. 0.]\n",
      " [0. 0. 0. ... 1. 0. 0.]]\n",
      "\n",
      "\n",
      "One hot labels shape:\n",
      "(60000, 7)\n"
     ]
    }
   ],
   "source": [
    "product = df[\"Product\"]\n",
    "\n",
    "le = preprocessing.LabelEncoder() #Initialize. le used as abbreviation fo label encoder\n",
    "le.fit(product)\n",
    "print(\"Original class labels:\")\n",
    "print(list(le.classes_))\n",
    "print('\\n')\n",
    "product_cat = le.transform(product)  \n",
    "#list(le.inverse_transform([0, 1, 3, 3, 0, 6, 4])) #If you wish to retrieve the original descriptive labels post production\n",
    "\n",
    "print('New product labels:')\n",
    "print(product_cat)\n",
    "print('\\n')\n",
    "\n",
    "\n",
    "print('One hot labels; 7 binary columns, one for each of the categories.') #Each row will be all zeros except for the category for that observation.\n",
    "product_onehot = to_categorical(product_cat)\n",
    "print(product_onehot)\n",
    "print('\\n')\n",
    "\n",
    "print('One hot labels shape:')\n",
    "print(np.shape(product_onehot))"
   ]
  },
  {
   "cell_type": "markdown",
   "metadata": {},
   "source": [
    "## Train - test split\n",
    "\n",
    "Now for our final preprocessing step: the usual train-test split."
   ]
  },
  {
   "cell_type": "code",
   "execution_count": 54,
   "metadata": {},
   "outputs": [
    {
     "name": "stdout",
     "output_type": "stream",
     "text": [
      "Test label shape: (1500, 7)\n",
      "Train label shape: (58500, 7)\n",
      "Test shape: (1500, 2000)\n",
      "Train shape: (58500, 2000)\n"
     ]
    }
   ],
   "source": [
    "import random\n",
    "random.seed(123)\n",
    "test_index = random.sample(range(1,10000), 1500)\n",
    "\n",
    "test = one_hot_results[test_index]\n",
    "train = np.delete(one_hot_results, test_index, 0)\n",
    "\n",
    "\n",
    "label_test = product_onehot[test_index]\n",
    "label_train = np.delete(product_onehot, test_index, 0)\n",
    "\n",
    "print(\"Test label shape:\", np.shape(label_test))\n",
    "print(\"Train label shape:\", np.shape(label_train))\n",
    "print(\"Test shape:\", np.shape(test))\n",
    "print(\"Train shape:\", np.shape(train))"
   ]
  },
  {
   "cell_type": "markdown",
   "metadata": {},
   "source": [
    "## Building the network"
   ]
  },
  {
   "cell_type": "markdown",
   "metadata": {},
   "source": [
    "Let's build a fully connected (Dense) layer network with relu activations in Keras. You can do this using: `Dense(16, activation='relu')`."
   ]
  },
  {
   "cell_type": "markdown",
   "metadata": {},
   "source": [
    "In this example, use 2 hidden with 50 units in the first layer and 25 in the second, both with a `relu` activation function. Because we are dealing with a multiclass problem (classifying the complaints into 7 ), we use a use a softmax classifier in order to output 7 class probabilities per case.  \n",
    "\n",
    "The previous imports that you'll use here are:  \n",
    "\n",
    "```from keras import models\n",
    "from keras import layers```"
   ]
  },
  {
   "cell_type": "code",
   "execution_count": 55,
   "metadata": {},
   "outputs": [],
   "source": [
    "#Your code here; initialize a sequential model with 3 layers; \n",
    "#two hidden relu and the final classification output using softmax\n",
    "\n",
    "model=models.Sequential()\n",
    "model.add(layers.Dense(50, activation='relu', input_shape=(2000,)))\n",
    "model.add(layers.Dense(25, activation='relu', input_shape=(2000,)))\n",
    "model.add(layers.Dense(7, activation='softmax'))"
   ]
  },
  {
   "cell_type": "markdown",
   "metadata": {},
   "source": [
    "## Compiling the model and look at the results\n",
    "\n",
    "Now, compile the model! This time, use `'categorical_crossentropy'` as the loss function and stochastic gradient descent, `'SGD'` as the optimizer. As in the previous lesson, include the accuracy as a metric."
   ]
  },
  {
   "cell_type": "code",
   "execution_count": 56,
   "metadata": {},
   "outputs": [],
   "source": [
    "#Your code here\n",
    "model.compile(optimizer='SGD',\n",
    "              loss='categorical_crossentropy',\n",
    "              metrics=['accuracy'])"
   ]
  },
  {
   "cell_type": "markdown",
   "metadata": {},
   "source": [
    "## Training the model\n",
    "\n",
    "In the compiler, you'll be passing the optimizer (SGD = stochastic gradient descent), loss function, and metrics. Train the model for 120 epochs in mini-batches of 256 samples.\n",
    "\n",
    "_Note:_ ⏰ _Your code may take about one to two minutes to run._"
   ]
  },
  {
   "cell_type": "code",
   "execution_count": 57,
   "metadata": {},
   "outputs": [
    {
     "name": "stdout",
     "output_type": "stream",
     "text": [
      "Epoch 1/120\n",
      "58500/58500 [==============================] - 3s 53us/step - loss: 1.8705 - accuracy: 0.2472\n",
      "Epoch 2/120\n",
      "58500/58500 [==============================] - 2s 33us/step - loss: 1.5777 - accuracy: 0.4862\n",
      "Epoch 3/120\n",
      "58500/58500 [==============================] - 2s 34us/step - loss: 1.2146 - accuracy: 0.6325\n",
      "Epoch 4/120\n",
      "58500/58500 [==============================] - 2s 32us/step - loss: 0.9632 - accuracy: 0.6948\n",
      "Epoch 5/120\n",
      "58500/58500 [==============================] - 2s 33us/step - loss: 0.8208 - accuracy: 0.7239\n",
      "Epoch 6/120\n",
      "58500/58500 [==============================] - 2s 31us/step - loss: 0.7401 - accuracy: 0.7409\n",
      "Epoch 7/120\n",
      "58500/58500 [==============================] - 2s 32us/step - loss: 0.6899 - accuracy: 0.7533\n",
      "Epoch 8/120\n",
      "58500/58500 [==============================] - 2s 33us/step - loss: 0.6554 - accuracy: 0.7631\n",
      "Epoch 9/120\n",
      "58500/58500 [==============================] - 2s 33us/step - loss: 0.6294 - accuracy: 0.7709\n",
      "Epoch 10/120\n",
      "58500/58500 [==============================] - 2s 32us/step - loss: 0.6091 - accuracy: 0.7786\n",
      "Epoch 11/120\n",
      "58500/58500 [==============================] - 2s 32us/step - loss: 0.5924 - accuracy: 0.7841\n",
      "Epoch 12/120\n",
      "58500/58500 [==============================] - 2s 31us/step - loss: 0.5777 - accuracy: 0.7900\n",
      "Epoch 13/120\n",
      "58500/58500 [==============================] - 2s 31us/step - loss: 0.5653 - accuracy: 0.7944\n",
      "Epoch 14/120\n",
      "58500/58500 [==============================] - 2s 30us/step - loss: 0.5544 - accuracy: 0.7983\n",
      "Epoch 15/120\n",
      "58500/58500 [==============================] - 2s 31us/step - loss: 0.5443 - accuracy: 0.8038\n",
      "Epoch 16/120\n",
      "58500/58500 [==============================] - 2s 31us/step - loss: 0.5355 - accuracy: 0.8069\n",
      "Epoch 17/120\n",
      "58500/58500 [==============================] - 2s 31us/step - loss: 0.5273 - accuracy: 0.8096\n",
      "Epoch 18/120\n",
      "58500/58500 [==============================] - 2s 31us/step - loss: 0.5200 - accuracy: 0.8126\n",
      "Epoch 19/120\n",
      "58500/58500 [==============================] - 2s 31us/step - loss: 0.5129 - accuracy: 0.8154\n",
      "Epoch 20/120\n",
      "58500/58500 [==============================] - 2s 31us/step - loss: 0.5065 - accuracy: 0.8175\n",
      "Epoch 21/120\n",
      "58500/58500 [==============================] - 2s 31us/step - loss: 0.5006 - accuracy: 0.8198\n",
      "Epoch 22/120\n",
      "58500/58500 [==============================] - 2s 31us/step - loss: 0.4948 - accuracy: 0.8230\n",
      "Epoch 23/120\n",
      "58500/58500 [==============================] - 2s 31us/step - loss: 0.4897 - accuracy: 0.8247\n",
      "Epoch 24/120\n",
      "58500/58500 [==============================] - 2s 31us/step - loss: 0.4847 - accuracy: 0.8270\n",
      "Epoch 25/120\n",
      "58500/58500 [==============================] - 2s 32us/step - loss: 0.4799 - accuracy: 0.8285\n",
      "Epoch 26/120\n",
      "58500/58500 [==============================] - 2s 32us/step - loss: 0.4756 - accuracy: 0.8298\n",
      "Epoch 27/120\n",
      "58500/58500 [==============================] - 2s 31us/step - loss: 0.4713 - accuracy: 0.8323\n",
      "Epoch 28/120\n",
      "58500/58500 [==============================] - 2s 32us/step - loss: 0.4670 - accuracy: 0.8340\n",
      "Epoch 29/120\n",
      "58500/58500 [==============================] - 2s 31us/step - loss: 0.4633 - accuracy: 0.8356\n",
      "Epoch 30/120\n",
      "58500/58500 [==============================] - 2s 31us/step - loss: 0.4597 - accuracy: 0.8373\n",
      "Epoch 31/120\n",
      "58500/58500 [==============================] - 2s 31us/step - loss: 0.4562 - accuracy: 0.8390\n",
      "Epoch 32/120\n",
      "58500/58500 [==============================] - 2s 31us/step - loss: 0.4531 - accuracy: 0.8396\n",
      "Epoch 33/120\n",
      "58500/58500 [==============================] - 2s 32us/step - loss: 0.4499 - accuracy: 0.8414\n",
      "Epoch 34/120\n",
      "58500/58500 [==============================] - 2s 33us/step - loss: 0.4469 - accuracy: 0.8418\n",
      "Epoch 35/120\n",
      "58500/58500 [==============================] - 2s 31us/step - loss: 0.4439 - accuracy: 0.8430\n",
      "Epoch 36/120\n",
      "58500/58500 [==============================] - 2s 31us/step - loss: 0.4410 - accuracy: 0.8443\n",
      "Epoch 37/120\n",
      "58500/58500 [==============================] - 2s 31us/step - loss: 0.4382 - accuracy: 0.8463\n",
      "Epoch 38/120\n",
      "58500/58500 [==============================] - 2s 32us/step - loss: 0.4356 - accuracy: 0.8458\n",
      "Epoch 39/120\n",
      "58500/58500 [==============================] - 2s 32us/step - loss: 0.4331 - accuracy: 0.8476\n",
      "Epoch 40/120\n",
      "58500/58500 [==============================] - 2s 32us/step - loss: 0.4305 - accuracy: 0.8485\n",
      "Epoch 41/120\n",
      "58500/58500 [==============================] - 2s 33us/step - loss: 0.4280 - accuracy: 0.8489\n",
      "Epoch 42/120\n",
      "58500/58500 [==============================] - 2s 32us/step - loss: 0.4259 - accuracy: 0.8501\n",
      "Epoch 43/120\n",
      "58500/58500 [==============================] - 2s 32us/step - loss: 0.4234 - accuracy: 0.8511\n",
      "Epoch 44/120\n",
      "58500/58500 [==============================] - 2s 31us/step - loss: 0.4212 - accuracy: 0.8520\n",
      "Epoch 45/120\n",
      "58500/58500 [==============================] - 2s 34us/step - loss: 0.4190 - accuracy: 0.8524\n",
      "Epoch 46/120\n",
      "58500/58500 [==============================] - 2s 33us/step - loss: 0.4171 - accuracy: 0.8529\n",
      "Epoch 47/120\n",
      "58500/58500 [==============================] - 2s 32us/step - loss: 0.4151 - accuracy: 0.8531\n",
      "Epoch 48/120\n",
      "58500/58500 [==============================] - 2s 33us/step - loss: 0.4131 - accuracy: 0.8543\n",
      "Epoch 49/120\n",
      "58500/58500 [==============================] - 2s 32us/step - loss: 0.4112 - accuracy: 0.8557\n",
      "Epoch 50/120\n",
      "58500/58500 [==============================] - 2s 34us/step - loss: 0.4094 - accuracy: 0.8559\n",
      "Epoch 51/120\n",
      "58500/58500 [==============================] - 2s 34us/step - loss: 0.4073 - accuracy: 0.8574\n",
      "Epoch 52/120\n",
      "58500/58500 [==============================] - 2s 34us/step - loss: 0.4053 - accuracy: 0.8567\n",
      "Epoch 53/120\n",
      "58500/58500 [==============================] - 2s 35us/step - loss: 0.4040 - accuracy: 0.8584\n",
      "Epoch 54/120\n",
      "58500/58500 [==============================] - 2s 33us/step - loss: 0.4021 - accuracy: 0.8581\n",
      "Epoch 55/120\n",
      "58500/58500 [==============================] - 2s 32us/step - loss: 0.4001 - accuracy: 0.8596\n",
      "Epoch 56/120\n",
      "58500/58500 [==============================] - 2s 32us/step - loss: 0.3987 - accuracy: 0.8595\n",
      "Epoch 57/120\n",
      "58500/58500 [==============================] - 2s 31us/step - loss: 0.3968 - accuracy: 0.8601\n",
      "Epoch 58/120\n",
      "58500/58500 [==============================] - 2s 31us/step - loss: 0.3952 - accuracy: 0.8608\n",
      "Epoch 59/120\n",
      "58500/58500 [==============================] - 2s 32us/step - loss: 0.3937 - accuracy: 0.8621\n",
      "Epoch 60/120\n",
      "58500/58500 [==============================] - 2s 32us/step - loss: 0.3922 - accuracy: 0.8615\n",
      "Epoch 61/120\n",
      "58500/58500 [==============================] - 2s 32us/step - loss: 0.3907 - accuracy: 0.8622\n",
      "Epoch 62/120\n",
      "58500/58500 [==============================] - 2s 33us/step - loss: 0.3891 - accuracy: 0.8632\n",
      "Epoch 63/120\n",
      "58500/58500 [==============================] - 2s 31us/step - loss: 0.3876 - accuracy: 0.8636\n",
      "Epoch 64/120\n",
      "58500/58500 [==============================] - 2s 32us/step - loss: 0.3862 - accuracy: 0.8640\n",
      "Epoch 65/120\n",
      "58500/58500 [==============================] - 2s 32us/step - loss: 0.3848 - accuracy: 0.8639\n",
      "Epoch 66/120\n",
      "58500/58500 [==============================] - 2s 35us/step - loss: 0.3836 - accuracy: 0.8652\n",
      "Epoch 67/120\n",
      "58500/58500 [==============================] - 2s 33us/step - loss: 0.3819 - accuracy: 0.8653\n",
      "Epoch 68/120\n",
      "58500/58500 [==============================] - 2s 31us/step - loss: 0.3806 - accuracy: 0.8657\n",
      "Epoch 69/120\n",
      "58500/58500 [==============================] - 2s 33us/step - loss: 0.3791 - accuracy: 0.8655\n",
      "Epoch 70/120\n",
      "58500/58500 [==============================] - 2s 35us/step - loss: 0.3782 - accuracy: 0.8667\n",
      "Epoch 71/120\n",
      "58500/58500 [==============================] - 2s 36us/step - loss: 0.3767 - accuracy: 0.8679\n",
      "Epoch 72/120\n",
      "58500/58500 [==============================] - 2s 34us/step - loss: 0.3754 - accuracy: 0.8676\n",
      "Epoch 73/120\n",
      "58500/58500 [==============================] - 2s 35us/step - loss: 0.3739 - accuracy: 0.8681 0s - loss: 0.3729 - accuracy\n",
      "Epoch 74/120\n",
      "58500/58500 [==============================] - 2s 34us/step - loss: 0.3726 - accuracy: 0.8691\n",
      "Epoch 75/120\n",
      "58500/58500 [==============================] - 2s 34us/step - loss: 0.3718 - accuracy: 0.8687\n",
      "Epoch 76/120\n",
      "58500/58500 [==============================] - 2s 32us/step - loss: 0.3700 - accuracy: 0.8689\n",
      "Epoch 77/120\n"
     ]
    },
    {
     "name": "stdout",
     "output_type": "stream",
     "text": [
      "58500/58500 [==============================] - 2s 32us/step - loss: 0.3690 - accuracy: 0.8695\n",
      "Epoch 78/120\n",
      "58500/58500 [==============================] - 2s 32us/step - loss: 0.3679 - accuracy: 0.8701\n",
      "Epoch 79/120\n",
      "58500/58500 [==============================] - 2s 30us/step - loss: 0.3664 - accuracy: 0.8705\n",
      "Epoch 80/120\n",
      "58500/58500 [==============================] - 2s 32us/step - loss: 0.3651 - accuracy: 0.8720\n",
      "Epoch 81/120\n",
      "58500/58500 [==============================] - 2s 32us/step - loss: 0.3644 - accuracy: 0.8716\n",
      "Epoch 82/120\n",
      "58500/58500 [==============================] - 2s 35us/step - loss: 0.3629 - accuracy: 0.8715\n",
      "Epoch 83/120\n",
      "58500/58500 [==============================] - 2s 34us/step - loss: 0.3618 - accuracy: 0.8716\n",
      "Epoch 84/120\n",
      "58500/58500 [==============================] - 2s 33us/step - loss: 0.3607 - accuracy: 0.8728\n",
      "Epoch 85/120\n",
      "58500/58500 [==============================] - 2s 32us/step - loss: 0.3594 - accuracy: 0.8733\n",
      "Epoch 86/120\n",
      "58500/58500 [==============================] - 2s 31us/step - loss: 0.3582 - accuracy: 0.8738\n",
      "Epoch 87/120\n",
      "58500/58500 [==============================] - 2s 32us/step - loss: 0.3574 - accuracy: 0.8737\n",
      "Epoch 88/120\n",
      "58500/58500 [==============================] - 2s 32us/step - loss: 0.3559 - accuracy: 0.8750\n",
      "Epoch 89/120\n",
      "58500/58500 [==============================] - 2s 33us/step - loss: 0.3550 - accuracy: 0.8747\n",
      "Epoch 90/120\n",
      "58500/58500 [==============================] - 2s 32us/step - loss: 0.3538 - accuracy: 0.8747\n",
      "Epoch 91/120\n",
      "58500/58500 [==============================] - 2s 31us/step - loss: 0.3531 - accuracy: 0.8760\n",
      "Epoch 92/120\n",
      "58500/58500 [==============================] - 2s 30us/step - loss: 0.3516 - accuracy: 0.8754\n",
      "Epoch 93/120\n",
      "58500/58500 [==============================] - 2s 30us/step - loss: 0.3504 - accuracy: 0.8760\n",
      "Epoch 94/120\n",
      "58500/58500 [==============================] - 2s 31us/step - loss: 0.3493 - accuracy: 0.8777\n",
      "Epoch 95/120\n",
      "58500/58500 [==============================] - 2s 31us/step - loss: 0.3483 - accuracy: 0.8779\n",
      "Epoch 96/120\n",
      "58500/58500 [==============================] - 2s 30us/step - loss: 0.3472 - accuracy: 0.8781\n",
      "Epoch 97/120\n",
      "58500/58500 [==============================] - 2s 31us/step - loss: 0.3462 - accuracy: 0.8780\n",
      "Epoch 98/120\n",
      "58500/58500 [==============================] - 2s 30us/step - loss: 0.3446 - accuracy: 0.8791\n",
      "Epoch 99/120\n",
      "58500/58500 [==============================] - 2s 31us/step - loss: 0.3437 - accuracy: 0.8787\n",
      "Epoch 100/120\n",
      "58500/58500 [==============================] - 2s 31us/step - loss: 0.3431 - accuracy: 0.8795\n",
      "Epoch 101/120\n",
      "58500/58500 [==============================] - 2s 32us/step - loss: 0.3420 - accuracy: 0.8798\n",
      "Epoch 102/120\n",
      "58500/58500 [==============================] - 2s 30us/step - loss: 0.3407 - accuracy: 0.8800\n",
      "Epoch 103/120\n",
      "58500/58500 [==============================] - 2s 30us/step - loss: 0.3398 - accuracy: 0.8804\n",
      "Epoch 104/120\n",
      "58500/58500 [==============================] - 2s 32us/step - loss: 0.3387 - accuracy: 0.8813\n",
      "Epoch 105/120\n",
      "58500/58500 [==============================] - 2s 32us/step - loss: 0.3375 - accuracy: 0.8818\n",
      "Epoch 106/120\n",
      "58500/58500 [==============================] - 2s 32us/step - loss: 0.3366 - accuracy: 0.8824\n",
      "Epoch 107/120\n",
      "58500/58500 [==============================] - 2s 32us/step - loss: 0.3356 - accuracy: 0.8825\n",
      "Epoch 108/120\n",
      "58500/58500 [==============================] - 2s 33us/step - loss: 0.3346 - accuracy: 0.8827\n",
      "Epoch 109/120\n",
      "58500/58500 [==============================] - 2s 33us/step - loss: 0.3334 - accuracy: 0.8834\n",
      "Epoch 110/120\n",
      "58500/58500 [==============================] - 2s 32us/step - loss: 0.3323 - accuracy: 0.8841\n",
      "Epoch 111/120\n",
      "58500/58500 [==============================] - 2s 33us/step - loss: 0.3309 - accuracy: 0.8845\n",
      "Epoch 112/120\n",
      "58500/58500 [==============================] - 2s 33us/step - loss: 0.3301 - accuracy: 0.8854\n",
      "Epoch 113/120\n",
      "58500/58500 [==============================] - 2s 33us/step - loss: 0.3290 - accuracy: 0.8854\n",
      "Epoch 114/120\n",
      "58500/58500 [==============================] - 2s 32us/step - loss: 0.3281 - accuracy: 0.8850\n",
      "Epoch 115/120\n",
      "58500/58500 [==============================] - 2s 31us/step - loss: 0.3271 - accuracy: 0.8861\n",
      "Epoch 116/120\n",
      "58500/58500 [==============================] - 2s 31us/step - loss: 0.3259 - accuracy: 0.8874\n",
      "Epoch 117/120\n",
      "58500/58500 [==============================] - 2s 31us/step - loss: 0.3251 - accuracy: 0.8867\n",
      "Epoch 118/120\n",
      "58500/58500 [==============================] - 2s 32us/step - loss: 0.3237 - accuracy: 0.8871\n",
      "Epoch 119/120\n",
      "58500/58500 [==============================] - 2s 32us/step - loss: 0.3226 - accuracy: 0.8880\n",
      "Epoch 120/120\n",
      "58500/58500 [==============================] - 2s 31us/step - loss: 0.3216 - accuracy: 0.8887\n"
     ]
    }
   ],
   "source": [
    "#Your code here\n",
    "history=model.fit(train,label_train,epochs=120,\n",
    "          batch_size=256)"
   ]
  },
  {
   "cell_type": "markdown",
   "metadata": {},
   "source": [
    "Recall that the dictionary `history` has two entries: the loss and the accuracy achieved using the training set."
   ]
  },
  {
   "cell_type": "code",
   "execution_count": 58,
   "metadata": {},
   "outputs": [
    {
     "data": {
      "text/plain": [
       "dict_keys(['loss', 'accuracy'])"
      ]
     },
     "execution_count": 58,
     "metadata": {},
     "output_type": "execute_result"
    }
   ],
   "source": [
    "history_dict = history.history\n",
    "history_dict.keys()"
   ]
  },
  {
   "cell_type": "markdown",
   "metadata": {},
   "source": [
    "## Plot the results\n",
    "\n",
    "As you might expect, we'll use our ```import matplotlib.pyplot as plt``` for graphing. Use the data stored in the history_dict above to plot the loss vs epochs and the accuracy vs epochs."
   ]
  },
  {
   "cell_type": "code",
   "execution_count": 63,
   "metadata": {},
   "outputs": [
    {
     "data": {
      "text/plain": [
       "Text(0, 0.5, 'accuracy')"
      ]
     },
     "execution_count": 63,
     "metadata": {},
     "output_type": "execute_result"
    },
    {
     "data": {
      "image/png": "[encoded data removed]",
      "text/plain": [
       "<Figure size 432x288 with 1 Axes>"
      ]
     },
     "metadata": {
      "needs_background": "light"
     },
     "output_type": "display_data"
    }
   ],
   "source": [
    "#Your code here; plot the loss vs the number of epoch\n",
    "plt.plot(history.history['loss'], history.history['accuracy'])\n",
    "plt.xlabel('loss function')\n",
    "plt.ylabel('accuracy')"
   ]
  },
  {
   "cell_type": "code",
   "execution_count": 66,
   "metadata": {},
   "outputs": [
    {
     "data": {
      "text/plain": [
       "Text(0, 0.5, 'accuracy')"
      ]
     },
     "execution_count": 66,
     "metadata": {},
     "output_type": "execute_result"
    },
    {
     "data": {
      "image/png": "[encoded data removed]",
      "text/plain": [
       "<Figure size 432x288 with 1 Axes>"
      ]
     },
     "metadata": {
      "needs_background": "light"
     },
     "output_type": "display_data"
    }
   ],
   "source": [
    "#Your code here; plot the training accuracy vs the number of epochs\n",
    "plt.plot(history.history['accuracy'])\n",
    "\n",
    "plt.xlabel('num of epochs')\n",
    "plt.ylabel('accuracy')"
   ]
  },
  {
   "cell_type": "markdown",
   "metadata": {},
   "source": [
    "It seems like we could just keep on going and accuracy would go up!"
   ]
  },
  {
   "cell_type": "markdown",
   "metadata": {},
   "source": [
    "## Make predictions\n",
    "\n",
    "Finally, it's time to output. Use the method discussed in the previous lesson to output (probability) predictions for the test set."
   ]
  },
  {
   "cell_type": "code",
   "execution_count": 68,
   "metadata": {},
   "outputs": [],
   "source": [
    "y_hat_test = model.predict(test)\n",
    "#Your code here; Output (probability) predictions for the test set.\n"
   ]
  },
  {
   "cell_type": "markdown",
   "metadata": {},
   "source": [
    "## Evaluate Performance\n",
    "\n",
    "Finally, print the loss and accuracy for both the train and test sets of the final trained model."
   ]
  },
  {
   "cell_type": "code",
   "execution_count": 78,
   "metadata": {},
   "outputs": [
    {
     "name": "stdout",
     "output_type": "stream",
     "text": [
      "58500/58500 [==============================] - 3s 47us/step\n",
      "train loss & accuracy : [0.3154171704520018, 0.8922393321990967]\n"
     ]
    }
   ],
   "source": [
    "#Your code here; print the loss and accuracy for the training set.\n",
    "\n",
    "print('train loss & accuracy :', model.evaluate(train, label_train))\n",
    "\n"
   ]
  },
  {
   "cell_type": "code",
   "execution_count": 79,
   "metadata": {},
   "outputs": [
    {
     "name": "stdout",
     "output_type": "stream",
     "text": [
      "1500/1500 [==============================] - 0s 57us/step\n",
      "test loss & accuracy : [0.23325088778138162, 0.9326666593551636]\n"
     ]
    }
   ],
   "source": [
    "#Your code here; print the loss and accuracy for the test set.\n",
    "print('test loss & accuracy :',model.evaluate(test, label_test))"
   ]
  },
  {
   "cell_type": "markdown",
   "metadata": {},
   "source": [
    "We can see that the training set results are really good, but the test set results lag behind. In the next lab. We'll talk a little more about this in the next lecture, and will discuss how we can get better test set results as well!"
   ]
  },
  {
   "cell_type": "markdown",
   "metadata": {},
   "source": [
    "## Additional Resources"
   ]
  },
  {
   "cell_type": "markdown",
   "metadata": {},
   "source": [
    "https://github.com/susanli2016/Machine-Learning-with-Python/blob/master/Consumer_complaints.ipynb"
   ]
  },
  {
   "cell_type": "markdown",
   "metadata": {},
   "source": [
    "https://catalog.data.gov/dataset/consumer-complaint-database"
   ]
  },
  {
   "cell_type": "markdown",
   "metadata": {},
   "source": [
    "## Summary \n",
    "\n",
    "Congratulations! In this lab, you built a neural network with much less production time thanks to the tools provided by Keras! In upcoming lessons and labs we'll continue to investigate further ideas regarding how to tune and refine these models for increased accuracy and performance."
   ]
  }
 ],
 "metadata": {
  "kernelspec": {
   "display_name": "Python 3",
   "language": "python",
   "name": "python3"
  },
  "language_info": {
   "codemirror_mode": {
    "name": "ipython",
    "version": 3
   },
   "file_extension": ".py",
   "mimetype": "text/x-python",
   "name": "python",
   "nbconvert_exporter": "python",
   "pygments_lexer": "ipython3",
   "version": "3.7.3"
  },
  "toc": {
   "base_numbering": 1,
   "nav_menu": {},
   "number_sections": true,
   "sideBar": true,
   "skip_h1_title": false,
   "title_cell": "Table of Contents",
   "title_sidebar": "Contents",
   "toc_cell": false,
   "toc_position": {},
   "toc_section_display": true,
   "toc_window_display": false
  }
 },
 "nbformat": 4,
 "nbformat_minor": 2
}
